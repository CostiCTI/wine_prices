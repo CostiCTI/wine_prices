{
 "cells": [
  {
   "cell_type": "code",
   "execution_count": 1,
   "id": "3fbb784d",
   "metadata": {},
   "outputs": [],
   "source": [
    "import random\n",
    "import numpy as np\n",
    "import pandas as pd\n",
    "\n",
    "from sklearn.model_selection import train_test_split\n",
    "from sklearn.feature_extraction.text import TfidfVectorizer\n",
    "from sklearn.linear_model import LogisticRegression\n",
    "from sklearn.metrics import accuracy_score, classification_report\n",
    "from sklearn.ensemble import RandomForestClassifier\n",
    "from sklearn.neighbors import KNeighborsClassifier\n",
    "from xgboost import XGBClassifier"
   ]
  },
  {
   "cell_type": "code",
   "execution_count": 2,
   "id": "fca3d413",
   "metadata": {},
   "outputs": [
    {
     "name": "stdout",
     "output_type": "stream",
     "text": [
      "50000\n"
     ]
    }
   ],
   "source": [
    "df = pd.read_csv(\"imdb_dataset.csv\") \n",
    "print (len(df))"
   ]
  },
  {
   "cell_type": "code",
   "execution_count": 3,
   "id": "01600286",
   "metadata": {},
   "outputs": [
    {
     "data": {
      "text/html": [
       "<div>\n",
       "<style scoped>\n",
       "    .dataframe tbody tr th:only-of-type {\n",
       "        vertical-align: middle;\n",
       "    }\n",
       "\n",
       "    .dataframe tbody tr th {\n",
       "        vertical-align: top;\n",
       "    }\n",
       "\n",
       "    .dataframe thead th {\n",
       "        text-align: right;\n",
       "    }\n",
       "</style>\n",
       "<table border=\"1\" class=\"dataframe\">\n",
       "  <thead>\n",
       "    <tr style=\"text-align: right;\">\n",
       "      <th></th>\n",
       "      <th>review</th>\n",
       "      <th>sentiment</th>\n",
       "    </tr>\n",
       "  </thead>\n",
       "  <tbody>\n",
       "    <tr>\n",
       "      <th>0</th>\n",
       "      <td>One of the other reviewers has mentioned that ...</td>\n",
       "      <td>positive</td>\n",
       "    </tr>\n",
       "    <tr>\n",
       "      <th>1</th>\n",
       "      <td>A wonderful little production. &lt;br /&gt;&lt;br /&gt;The...</td>\n",
       "      <td>positive</td>\n",
       "    </tr>\n",
       "    <tr>\n",
       "      <th>2</th>\n",
       "      <td>I thought this was a wonderful way to spend ti...</td>\n",
       "      <td>positive</td>\n",
       "    </tr>\n",
       "    <tr>\n",
       "      <th>3</th>\n",
       "      <td>Basically there's a family where a little boy ...</td>\n",
       "      <td>negative</td>\n",
       "    </tr>\n",
       "    <tr>\n",
       "      <th>4</th>\n",
       "      <td>Petter Mattei's \"Love in the Time of Money\" is...</td>\n",
       "      <td>positive</td>\n",
       "    </tr>\n",
       "  </tbody>\n",
       "</table>\n",
       "</div>"
      ],
      "text/plain": [
       "                                              review sentiment\n",
       "0  One of the other reviewers has mentioned that ...  positive\n",
       "1  A wonderful little production. <br /><br />The...  positive\n",
       "2  I thought this was a wonderful way to spend ti...  positive\n",
       "3  Basically there's a family where a little boy ...  negative\n",
       "4  Petter Mattei's \"Love in the Time of Money\" is...  positive"
      ]
     },
     "execution_count": 3,
     "metadata": {},
     "output_type": "execute_result"
    }
   ],
   "source": [
    "df.head()"
   ]
  },
  {
   "cell_type": "code",
   "execution_count": 4,
   "id": "0b926cbd",
   "metadata": {},
   "outputs": [
    {
     "name": "stdout",
     "output_type": "stream",
     "text": [
      "review       0\n",
      "sentiment    0\n",
      "dtype: int64\n"
     ]
    }
   ],
   "source": [
    "print (df.isnull().sum())"
   ]
  },
  {
   "cell_type": "code",
   "execution_count": 5,
   "id": "0dbfcc6b",
   "metadata": {},
   "outputs": [
    {
     "name": "stdout",
     "output_type": "stream",
     "text": [
      "{'positive', 'negative'}\n"
     ]
    }
   ],
   "source": [
    "reviews = list(df[\"review\"])\n",
    "sentiments = list(df[\"sentiment\"])\n",
    "print (set(sentiments))"
   ]
  },
  {
   "cell_type": "code",
   "execution_count": 7,
   "id": "de51cdce",
   "metadata": {},
   "outputs": [
    {
     "name": "stdout",
     "output_type": "stream",
     "text": [
      "50000\n",
      "50000\n",
      "25000\n"
     ]
    }
   ],
   "source": [
    "balanced_reviews = reviews\n",
    "balanced_sentiments = []\n",
    "for x in sentiments:\n",
    "    if x == 'positive':\n",
    "        balanced_sentiments.append(1)\n",
    "    else:\n",
    "        balanced_sentiments.append(0)\n",
    "print (len(balanced_reviews))\n",
    "print (len(balanced_sentiments))\n",
    "print (sum(balanced_sentiments))"
   ]
  },
  {
   "cell_type": "code",
   "execution_count": 8,
   "id": "d62361f9",
   "metadata": {},
   "outputs": [],
   "source": [
    "# positive_reviews = [r for r, s in zip(reviews, sentiments) if s == \"positive\"]\n",
    "# negative_reviews = [r for r, s in zip(reviews, sentiments) if s == \"negative\"]\n",
    "\n",
    "# pos_sample_size = int(0.60 * len(positive_reviews))\n",
    "# neg_sample_size = int(0.60 * len(negative_reviews))\n",
    "\n",
    "# sampled_positive = random.sample(positive_reviews, pos_sample_size)\n",
    "# sampled_negative = random.sample(negative_reviews, neg_sample_size)\n",
    "\n",
    "# balanced_reviews = sampled_positive + sampled_negative\n",
    "# balanced_sentiments = [\"positive\"] * pos_sample_size + [\"negative\"] * neg_sample_size\n",
    "\n",
    "# combined = list(zip(balanced_reviews, balanced_sentiments))\n",
    "# random.shuffle(combined)\n",
    "# balanced_reviews, balanced_sentiments = zip(*combined)\n",
    "\n",
    "# balanced_reviews = list(balanced_reviews)\n",
    "# balanced_sentiments = list(balanced_sentiments)\n",
    "\n",
    "# print (len(balanced_reviews))\n",
    "# print (len(balanced_sentiments))"
   ]
  },
  {
   "cell_type": "code",
   "execution_count": 9,
   "id": "0ed46351",
   "metadata": {},
   "outputs": [
    {
     "name": "stdout",
     "output_type": "stream",
     "text": [
      "30000 30000\n",
      "10000 10000\n",
      "10000 10000\n"
     ]
    }
   ],
   "source": [
    "X_train, X_temp, y_train, y_temp = train_test_split(balanced_reviews, balanced_sentiments, test_size=0.4, random_state=42)\n",
    "X_val, X_test, y_val, y_test = train_test_split(X_temp, y_temp, test_size=0.5, random_state=42)\n",
    "print (len(X_train), len(y_train))\n",
    "print (len(X_val), len(y_val))\n",
    "print (len(X_test), len(y_test))"
   ]
  },
  {
   "cell_type": "code",
   "execution_count": 10,
   "id": "3d7543be",
   "metadata": {},
   "outputs": [
    {
     "name": "stdout",
     "output_type": "stream",
     "text": [
      "82225\n"
     ]
    }
   ],
   "source": [
    "vectorizer = TfidfVectorizer(stop_words=\"english\")\n",
    "X_train_tfidf = vectorizer.fit_transform(X_train)\n",
    "print (len(vectorizer.vocabulary_))"
   ]
  },
  {
   "cell_type": "code",
   "execution_count": 11,
   "id": "d362b020",
   "metadata": {},
   "outputs": [
    {
     "name": "stdout",
     "output_type": "stream",
     "text": [
      "10000\n"
     ]
    }
   ],
   "source": [
    "vectorizer = TfidfVectorizer(stop_words=\"english\", max_features=10000)\n",
    "X_train_tfidf = vectorizer.fit_transform(X_train)\n",
    "print (len(vectorizer.vocabulary_))"
   ]
  },
  {
   "cell_type": "code",
   "execution_count": 12,
   "id": "c818c2ee",
   "metadata": {},
   "outputs": [
    {
     "name": "stdout",
     "output_type": "stream",
     "text": [
      "252\n"
     ]
    }
   ],
   "source": [
    "vectorizer = TfidfVectorizer(stop_words=\"english\", max_df=0.95, min_df=0.05)\n",
    "X_train_tfidf = vectorizer.fit_transform(X_train)\n",
    "print (len(vectorizer.vocabulary_))"
   ]
  },
  {
   "cell_type": "code",
   "execution_count": 13,
   "id": "5fd474c0",
   "metadata": {},
   "outputs": [
    {
     "name": "stdout",
     "output_type": "stream",
     "text": [
      "636\n"
     ]
    }
   ],
   "source": [
    "vectorizer = TfidfVectorizer(stop_words=\"english\", ngram_range=(1,3), max_df=0.95, min_df=0.025)\n",
    "X_train_tfidf = vectorizer.fit_transform(X_train, )\n",
    "print (len(vectorizer.vocabulary_))"
   ]
  },
  {
   "cell_type": "code",
   "execution_count": 14,
   "id": "04994aed",
   "metadata": {},
   "outputs": [],
   "source": [
    "# vectorizer = TfidfVectorizer(stop_words=\"english\", max_features=5000)\n",
    "# X_train_tfidf = vectorizer.fit_transform(X_train)\n",
    "# print (len(vectorizer.vocabulary_))"
   ]
  },
  {
   "cell_type": "code",
   "execution_count": 15,
   "id": "706acaa9",
   "metadata": {},
   "outputs": [],
   "source": [
    "#vectorizer.vocabulary_"
   ]
  },
  {
   "cell_type": "code",
   "execution_count": 16,
   "id": "a835ed4d",
   "metadata": {},
   "outputs": [],
   "source": [
    "X_val_tfidf = vectorizer.transform(X_val)\n",
    "X_test_tfidf = vectorizer.transform(X_test)"
   ]
  },
  {
   "cell_type": "code",
   "execution_count": 17,
   "id": "46357ab3",
   "metadata": {},
   "outputs": [
    {
     "data": {
      "text/plain": [
       "<10000x636 sparse matrix of type '<class 'numpy.float64'>'\n",
       "\twith 409472 stored elements in Compressed Sparse Row format>"
      ]
     },
     "execution_count": 17,
     "metadata": {},
     "output_type": "execute_result"
    }
   ],
   "source": [
    "X_val_tfidf"
   ]
  },
  {
   "cell_type": "code",
   "execution_count": 18,
   "id": "35e5a244",
   "metadata": {},
   "outputs": [],
   "source": [
    "#X_val_tfidf[9999].data"
   ]
  },
  {
   "cell_type": "code",
   "execution_count": 19,
   "id": "2d022183",
   "metadata": {},
   "outputs": [
    {
     "data": {
      "text/plain": [
       "LogisticRegression()"
      ]
     },
     "execution_count": 19,
     "metadata": {},
     "output_type": "execute_result"
    }
   ],
   "source": [
    "model = LogisticRegression()\n",
    "model.fit(X_train_tfidf, y_train)"
   ]
  },
  {
   "cell_type": "code",
   "execution_count": 20,
   "id": "8a215c3c",
   "metadata": {},
   "outputs": [
    {
     "name": "stdout",
     "output_type": "stream",
     "text": [
      "Trainn Accuracy: 0.8542666666666666\n"
     ]
    }
   ],
   "source": [
    "y_train_pred = model.predict(X_train_tfidf)\n",
    "val_accuracy = accuracy_score(y_train, y_train_pred)\n",
    "print(\"Train Accuracy:\", val_accuracy)"
   ]
  },
  {
   "cell_type": "code",
   "execution_count": 21,
   "id": "6da1f4de",
   "metadata": {},
   "outputs": [
    {
     "name": "stdout",
     "output_type": "stream",
     "text": [
      "Validation Accuracy: 0.8505\n"
     ]
    }
   ],
   "source": [
    "y_val_pred = model.predict(X_val_tfidf)\n",
    "val_accuracy = accuracy_score(y_val, y_val_pred)\n",
    "print(\"Validation Accuracy:\", val_accuracy)"
   ]
  },
  {
   "cell_type": "code",
   "execution_count": 22,
   "id": "bc17b5c3",
   "metadata": {},
   "outputs": [
    {
     "name": "stdout",
     "output_type": "stream",
     "text": [
      "Test Accuracy: 0.8467\n"
     ]
    }
   ],
   "source": [
    "y_test_pred = model.predict(X_test_tfidf)\n",
    "test_accuracy = accuracy_score(y_test, y_test_pred)\n",
    "print(\"Test Accuracy:\", test_accuracy)"
   ]
  },
  {
   "cell_type": "code",
   "execution_count": 23,
   "id": "fde59b6b",
   "metadata": {},
   "outputs": [
    {
     "data": {
      "text/plain": [
       "RandomForestClassifier(n_estimators=30)"
      ]
     },
     "execution_count": 23,
     "metadata": {},
     "output_type": "execute_result"
    }
   ],
   "source": [
    "model = RandomForestClassifier(n_estimators=30)\n",
    "model.fit(X_train_tfidf, y_train)"
   ]
  },
  {
   "cell_type": "code",
   "execution_count": 24,
   "id": "01dc18ed",
   "metadata": {},
   "outputs": [
    {
     "name": "stdout",
     "output_type": "stream",
     "text": [
      "Trainn Accuracy: 0.9997\n",
      "Validation Accuracy: 0.808\n",
      "Test Accuracy: 0.8104\n"
     ]
    }
   ],
   "source": [
    "y_train_pred = model.predict(X_train_tfidf)\n",
    "val_accuracy = accuracy_score(y_train, y_train_pred)\n",
    "print(\"Train Accuracy:\", val_accuracy)\n",
    "y_val_pred = model.predict(X_val_tfidf)\n",
    "val_accuracy = accuracy_score(y_val, y_val_pred)\n",
    "print(\"Validation Accuracy:\", val_accuracy)\n",
    "y_test_pred = model.predict(X_test_tfidf)\n",
    "test_accuracy = accuracy_score(y_test, y_test_pred)\n",
    "print(\"Test Accuracy:\", test_accuracy)"
   ]
  },
  {
   "cell_type": "code",
   "execution_count": 25,
   "id": "abe2503c",
   "metadata": {},
   "outputs": [
    {
     "data": {
      "text/plain": [
       "RandomForestClassifier(max_depth=20)"
      ]
     },
     "execution_count": 25,
     "metadata": {},
     "output_type": "execute_result"
    }
   ],
   "source": [
    "model = RandomForestClassifier(n_estimators=100, max_depth=20)\n",
    "model.fit(X_train_tfidf, y_train)"
   ]
  },
  {
   "cell_type": "code",
   "execution_count": 26,
   "id": "16070318",
   "metadata": {},
   "outputs": [
    {
     "name": "stdout",
     "output_type": "stream",
     "text": [
      "Trainn Accuracy: 0.9065333333333333\n",
      "Validation Accuracy: 0.8113\n",
      "Test Accuracy: 0.8067\n"
     ]
    }
   ],
   "source": [
    "y_train_pred = model.predict(X_train_tfidf)\n",
    "val_accuracy = accuracy_score(y_train, y_train_pred)\n",
    "print(\"Train Accuracy:\", val_accuracy)\n",
    "y_val_pred = model.predict(X_val_tfidf)\n",
    "val_accuracy = accuracy_score(y_val, y_val_pred)\n",
    "print(\"Validation Accuracy:\", val_accuracy)\n",
    "y_test_pred = model.predict(X_test_tfidf)\n",
    "test_accuracy = accuracy_score(y_test, y_test_pred)\n",
    "print(\"Test Accuracy:\", test_accuracy)"
   ]
  },
  {
   "cell_type": "code",
   "execution_count": 27,
   "id": "9e0cf68f",
   "metadata": {},
   "outputs": [
    {
     "data": {
      "text/plain": [
       "KNeighborsClassifier(n_neighbors=7)"
      ]
     },
     "execution_count": 27,
     "metadata": {},
     "output_type": "execute_result"
    }
   ],
   "source": [
    "model = KNeighborsClassifier(n_neighbors=7)\n",
    "model.fit(X_train_tfidf, y_train)"
   ]
  },
  {
   "cell_type": "code",
   "execution_count": 28,
   "id": "bc23b1b8",
   "metadata": {},
   "outputs": [
    {
     "name": "stdout",
     "output_type": "stream",
     "text": [
      "Trainn Accuracy: 0.7945333333333333\n",
      "Validation Accuracy: 0.7083\n",
      "Test Accuracy: 0.7023\n"
     ]
    }
   ],
   "source": [
    "y_train_pred = model.predict(X_train_tfidf)\n",
    "val_accuracy = accuracy_score(y_train, y_train_pred)\n",
    "print(\"Train Accuracy:\", val_accuracy)\n",
    "y_val_pred = model.predict(X_val_tfidf)\n",
    "val_accuracy = accuracy_score(y_val, y_val_pred)\n",
    "print(\"Validation Accuracy:\", val_accuracy)\n",
    "y_test_pred = model.predict(X_test_tfidf)\n",
    "test_accuracy = accuracy_score(y_test, y_test_pred)\n",
    "print(\"Test Accuracy:\", test_accuracy)"
   ]
  },
  {
   "cell_type": "code",
   "execution_count": 39,
   "id": "01bfcc65",
   "metadata": {},
   "outputs": [
    {
     "data": {
      "text/plain": [
       "XGBClassifier(base_score=None, booster=None, callbacks=None,\n",
       "              colsample_bylevel=None, colsample_bynode=None,\n",
       "              colsample_bytree=None, device=None, early_stopping_rounds=None,\n",
       "              enable_categorical=False, eval_metric=None, feature_types=None,\n",
       "              gamma=None, grow_policy=None, importance_type=None,\n",
       "              interaction_constraints=None, learning_rate=None, max_bin=None,\n",
       "              max_cat_threshold=None, max_cat_to_onehot=None,\n",
       "              max_delta_step=None, max_depth=5, max_leaves=None,\n",
       "              min_child_weight=None, missing=nan, monotone_constraints=None,\n",
       "              multi_strategy=None, n_estimators=50, n_jobs=None,\n",
       "              num_parallel_tree=None, random_state=None, ...)"
      ]
     },
     "execution_count": 39,
     "metadata": {},
     "output_type": "execute_result"
    }
   ],
   "source": [
    "model = XGBClassifier(n_estimators=50, max_depth=5)\n",
    "model.fit(X_train_tfidf, y_train)"
   ]
  },
  {
   "cell_type": "code",
   "execution_count": 40,
   "id": "19bf7552",
   "metadata": {},
   "outputs": [
    {
     "name": "stdout",
     "output_type": "stream",
     "text": [
      "Trainn Accuracy: 0.8655333333333334\n",
      "Validation Accuracy: 0.821\n",
      "Test Accuracy: 0.8144\n"
     ]
    }
   ],
   "source": [
    "y_train_pred = model.predict(X_train_tfidf)\n",
    "val_accuracy = accuracy_score(y_train, y_train_pred)\n",
    "print(\"Train Accuracy:\", val_accuracy)\n",
    "y_val_pred = model.predict(X_val_tfidf)\n",
    "val_accuracy = accuracy_score(y_val, y_val_pred)\n",
    "print(\"Validation Accuracy:\", val_accuracy)\n",
    "y_test_pred = model.predict(X_test_tfidf)\n",
    "test_accuracy = accuracy_score(y_test, y_test_pred)\n",
    "print(\"Test Accuracy:\", test_accuracy)"
   ]
  },
  {
   "cell_type": "code",
   "execution_count": 42,
   "id": "5a7b68a9",
   "metadata": {},
   "outputs": [
    {
     "data": {
      "text/plain": [
       "10000"
      ]
     },
     "execution_count": 42,
     "metadata": {},
     "output_type": "execute_result"
    }
   ],
   "source": [
    "len(y_test_pred)"
   ]
  },
  {
   "cell_type": "code",
   "execution_count": 43,
   "id": "78a42794",
   "metadata": {},
   "outputs": [],
   "source": [
    "def ensamble():\n",
    "    model = LogisticRegression()\n",
    "    model.fit(X_train_tfidf, y_train)\n",
    "    y_pred1 = model.predict(X_test_tfidf)\n",
    "    \n",
    "    model = RandomForestClassifier(n_estimators=100, max_depth=20)\n",
    "    model.fit(X_train_tfidf, y_train)\n",
    "    y_pred2 = model.predict(X_test_tfidf)\n",
    "    \n",
    "    model = RandomForestClassifier(n_estimators=100, max_depth=20)\n",
    "    model.fit(X_train_tfidf, y_train)\n",
    "    y_pred3 = model.predict(X_test_tfidf)\n",
    "    \n",
    "    y_pred = []\n",
    "    for i in range(len(y_pred1)):\n",
    "        if y_pred1[i] + y_pred2[i] + y_pred3[i] >= 2:\n",
    "            y_pred.append(1)\n",
    "        else:\n",
    "            y_pred.append(0)\n",
    "            \n",
    "    acc = accuracy_score(y_test, y_pred)\n",
    "    return acc"
   ]
  },
  {
   "cell_type": "code",
   "execution_count": 44,
   "id": "9ab7c3f8",
   "metadata": {},
   "outputs": [
    {
     "name": "stdout",
     "output_type": "stream",
     "text": [
      "Enemble acc: 0.818\n"
     ]
    }
   ],
   "source": [
    "acc = ensamble()\n",
    "print (\"Enemble acc:\", acc)"
   ]
  },
  {
   "cell_type": "code",
   "execution_count": null,
   "id": "0302ebf8",
   "metadata": {},
   "outputs": [],
   "source": []
  }
 ],
 "metadata": {
  "kernelspec": {
   "display_name": "Python 3 (ipykernel)",
   "language": "python",
   "name": "python3"
  },
  "language_info": {
   "codemirror_mode": {
    "name": "ipython",
    "version": 3
   },
   "file_extension": ".py",
   "mimetype": "text/x-python",
   "name": "python",
   "nbconvert_exporter": "python",
   "pygments_lexer": "ipython3",
   "version": "3.9.12"
  }
 },
 "nbformat": 4,
 "nbformat_minor": 5
}
