{
 "cells": [
  {
   "cell_type": "code",
   "execution_count": 99,
   "id": "cf1a8e96",
   "metadata": {},
   "outputs": [],
   "source": [
    "import numpy as np\n",
    "import pandas as pd\n",
    "\n",
    "from keras.preprocessing.text import Tokenizer\n",
    "from keras.utils import to_categorical\n",
    "from keras.models import Sequential\n",
    "from keras.layers import Dense\n",
    "from keras.layers import LSTM\n",
    "from keras.layers import Embedding, InputLayer\n",
    "import string"
   ]
  },
  {
   "cell_type": "code",
   "execution_count": 100,
   "id": "a5a64d99",
   "metadata": {},
   "outputs": [
    {
     "data": {
      "text/plain": [
       "17941"
      ]
     },
     "execution_count": 100,
     "metadata": {},
     "output_type": "execute_result"
    }
   ],
   "source": [
    "df = pd.read_csv(\"train.csv\")\n",
    "len(df)"
   ]
  },
  {
   "cell_type": "code",
   "execution_count": 101,
   "id": "a525494b",
   "metadata": {},
   "outputs": [],
   "source": [
    "data = list(df['text'])"
   ]
  },
  {
   "cell_type": "code",
   "execution_count": 102,
   "id": "f8937d1f",
   "metadata": {},
   "outputs": [],
   "source": [
    "def generate_subsentences(sentences: list[str]) -> list[str]:\n",
    "    result = []\n",
    "    translator = str.maketrans(string.punctuation, ' ' * len(string.punctuation))\n",
    "    for sentence in sentences:\n",
    "        try:\n",
    "            clean_sentence = sentence.translate(translator)\n",
    "            words = clean_sentence.split()\n",
    "            for length in range(2, 6):\n",
    "                for start in range(len(words) - length + 1):\n",
    "                    subsentence = ' '.join(words[start:start + length])\n",
    "                    result.append(subsentence)\n",
    "            result.append(\"<start>\" + \" \" + sentence.split(\" \")[0])\n",
    "        except:\n",
    "            pass\n",
    "    return result\n",
    "\n",
    "#sentences = [\"the cat sat on the table\", \"i like it\"]\n",
    "#print(generate_subsentences(sentences))"
   ]
  },
  {
   "cell_type": "code",
   "execution_count": 103,
   "id": "559c5049",
   "metadata": {},
   "outputs": [
    {
     "name": "stdout",
     "output_type": "stream",
     "text": [
      "5413495\n"
     ]
    }
   ],
   "source": [
    "props = generate_subsentences(data)\n",
    "print (len(props))"
   ]
  },
  {
   "cell_type": "code",
   "execution_count": 104,
   "id": "9d7dfc4b",
   "metadata": {},
   "outputs": [],
   "source": [
    "import random\n",
    "\n",
    "random.shuffle(props)"
   ]
  },
  {
   "cell_type": "code",
   "execution_count": 105,
   "id": "7050524f",
   "metadata": {},
   "outputs": [
    {
     "data": {
      "text/plain": [
       "'rapid ar fi diferit'"
      ]
     },
     "execution_count": 105,
     "metadata": {},
     "output_type": "execute_result"
    }
   ],
   "source": [
    "props[0]"
   ]
  },
  {
   "cell_type": "code",
   "execution_count": 106,
   "id": "68772c72",
   "metadata": {},
   "outputs": [
    {
     "name": "stdout",
     "output_type": "stream",
     "text": [
      "600000\n"
     ]
    }
   ],
   "source": [
    "props = props[:600000]\n",
    "print (len(props))"
   ]
  },
  {
   "cell_type": "code",
   "execution_count": 107,
   "id": "d08d3b13",
   "metadata": {},
   "outputs": [],
   "source": [
    "tokenizer = Tokenizer(num_words=4000, oov_token='unktoken')\n",
    "tokenizer.fit_on_texts(props)"
   ]
  },
  {
   "cell_type": "code",
   "execution_count": 108,
   "id": "10bf318c",
   "metadata": {},
   "outputs": [
    {
     "data": {
      "text/plain": [
       "47074"
      ]
     },
     "execution_count": 108,
     "metadata": {},
     "output_type": "execute_result"
    }
   ],
   "source": [
    "len(tokenizer.index_word)"
   ]
  },
  {
   "cell_type": "code",
   "execution_count": 109,
   "id": "9b4fe366",
   "metadata": {},
   "outputs": [
    {
     "data": {
      "text/plain": [
       "'unktoken'"
      ]
     },
     "execution_count": 109,
     "metadata": {},
     "output_type": "execute_result"
    }
   ],
   "source": [
    "tokenizer.index_word[1]"
   ]
  },
  {
   "cell_type": "code",
   "execution_count": 110,
   "id": "0ae5d3e2",
   "metadata": {},
   "outputs": [],
   "source": [
    "NO_WORDS = 4000"
   ]
  },
  {
   "cell_type": "code",
   "execution_count": 111,
   "id": "390a6b5e",
   "metadata": {},
   "outputs": [
    {
     "name": "stdout",
     "output_type": "stream",
     "text": [
      "4000\n"
     ]
    }
   ],
   "source": [
    "oftenit = []\n",
    "for k, v in tokenizer.index_word.items():\n",
    "    if k <= NO_WORDS:\n",
    "        oftenit.append(v)\n",
    "print (len(oftenit))"
   ]
  },
  {
   "cell_type": "code",
   "execution_count": 112,
   "id": "3e7ff849",
   "metadata": {},
   "outputs": [
    {
     "data": {
      "text/plain": [
       "4000"
      ]
     },
     "execution_count": 112,
     "metadata": {},
     "output_type": "execute_result"
    }
   ],
   "source": [
    "len(oftenit)"
   ]
  },
  {
   "cell_type": "code",
   "execution_count": 113,
   "id": "f052233a",
   "metadata": {},
   "outputs": [],
   "source": [
    "#tokenizer.index_word"
   ]
  },
  {
   "cell_type": "code",
   "execution_count": null,
   "id": "15dfa7b4",
   "metadata": {},
   "outputs": [],
   "source": []
  },
  {
   "cell_type": "code",
   "execution_count": 114,
   "id": "9c3c42e0",
   "metadata": {},
   "outputs": [
    {
     "data": {
      "text/plain": [
       "'cei mici care striga'"
      ]
     },
     "execution_count": 114,
     "metadata": {},
     "output_type": "execute_result"
    }
   ],
   "source": [
    "props[10]"
   ]
  },
  {
   "cell_type": "code",
   "execution_count": 115,
   "id": "fa6e5c30",
   "metadata": {},
   "outputs": [],
   "source": [
    "sequences = tokenizer.texts_to_sequences(props)"
   ]
  },
  {
   "cell_type": "code",
   "execution_count": 116,
   "id": "7b73a200",
   "metadata": {},
   "outputs": [
    {
     "data": {
      "text/plain": [
       "[131, 604, 13, 3029]"
      ]
     },
     "execution_count": 116,
     "metadata": {},
     "output_type": "execute_result"
    }
   ],
   "source": [
    "sequences[10]"
   ]
  },
  {
   "cell_type": "code",
   "execution_count": 117,
   "id": "04391762",
   "metadata": {},
   "outputs": [
    {
     "data": {
      "text/plain": [
       "[1873, 295, 117, 3950, 1]"
      ]
     },
     "execution_count": 117,
     "metadata": {},
     "output_type": "execute_result"
    }
   ],
   "source": [
    "sequences[124]"
   ]
  },
  {
   "cell_type": "code",
   "execution_count": 119,
   "id": "24b5fedf",
   "metadata": {},
   "outputs": [
    {
     "name": "stdout",
     "output_type": "stream",
     "text": [
      "525657\n"
     ]
    }
   ],
   "source": [
    "xsequences = []\n",
    "for seq in sequences:\n",
    "    if len(seq) > 5 or seq[-1] == 1:\n",
    "        pass\n",
    "    else:\n",
    "        xsequences.append(seq)\n",
    "print (len(xsequences))"
   ]
  },
  {
   "cell_type": "code",
   "execution_count": 120,
   "id": "b714d14c",
   "metadata": {},
   "outputs": [],
   "source": [
    "from tensorflow.keras.preprocessing.sequence import pad_sequences\n",
    "import tensorflow as tf\n",
    "\n",
    "padded = pad_sequences(xsequences, padding='pre')"
   ]
  },
  {
   "cell_type": "code",
   "execution_count": 121,
   "id": "a5071eb4",
   "metadata": {},
   "outputs": [
    {
     "data": {
      "text/plain": [
       "array([   0,    0, 1680,   17,  212])"
      ]
     },
     "execution_count": 121,
     "metadata": {},
     "output_type": "execute_result"
    }
   ],
   "source": [
    "padded[124]"
   ]
  },
  {
   "cell_type": "code",
   "execution_count": 122,
   "id": "254cede6",
   "metadata": {},
   "outputs": [
    {
     "name": "stdout",
     "output_type": "stream",
     "text": [
      "[ 17  39 121  43  11]\n",
      "[  0   9 600   2 819]\n",
      "[   0    0 1680   17  212]\n"
     ]
    }
   ],
   "source": [
    "print (padded[32])\n",
    "print (padded[100])\n",
    "print (padded[124])"
   ]
  },
  {
   "cell_type": "code",
   "execution_count": 123,
   "id": "13766af9",
   "metadata": {},
   "outputs": [
    {
     "data": {
      "text/plain": [
       "525657"
      ]
     },
     "execution_count": 123,
     "metadata": {},
     "output_type": "execute_result"
    }
   ],
   "source": [
    "len(padded)"
   ]
  },
  {
   "cell_type": "code",
   "execution_count": 124,
   "id": "847fce8d",
   "metadata": {},
   "outputs": [],
   "source": [
    "X, y = padded[:,:-1], padded[:,-1]\n",
    "y = to_categorical(y, num_classes=NO_WORDS + 1)"
   ]
  },
  {
   "cell_type": "code",
   "execution_count": 125,
   "id": "309ddac7",
   "metadata": {},
   "outputs": [
    {
     "name": "stdout",
     "output_type": "stream",
     "text": [
      "(450000, 4)\n",
      "(450000, 4001)\n",
      "(75657, 4)\n",
      "(75657, 4001)\n"
     ]
    }
   ],
   "source": [
    "from sklearn.model_selection import train_test_split\n",
    "X_train = X[:450000]\n",
    "X_test = X[450000:]\n",
    "y_train = y[:450000]\n",
    "y_test = y[450000:]\n",
    "print (X_train.shape)\n",
    "print (y_train.shape)\n",
    "print (X_test.shape)\n",
    "print (y_test.shape)"
   ]
  },
  {
   "cell_type": "code",
   "execution_count": 134,
   "id": "285633a7",
   "metadata": {},
   "outputs": [],
   "source": [
    "def top_3_accuracy(y_true, y_pred):\n",
    "    y_true = tf.cast(tf.argmax(y_true, axis=-1), tf.int32)  # Convert one-hot to integer labels\n",
    "    top_3 = tf.math.top_k(y_pred, k=3).indices\n",
    "    matches = tf.reduce_any(tf.equal(tf.expand_dims(y_true, -1), top_3), axis=-1)\n",
    "    return tf.reduce_mean(tf.cast(matches, tf.float32))"
   ]
  },
  {
   "cell_type": "code",
   "execution_count": 135,
   "id": "c6d6c9e8",
   "metadata": {},
   "outputs": [
    {
     "name": "stdout",
     "output_type": "stream",
     "text": [
      "Model: \"sequential_3\"\n",
      "_________________________________________________________________\n",
      " Layer (type)                Output Shape              Param #   \n",
      "=================================================================\n",
      " embedding_3 (Embedding)     (None, 4, 24)             96024     \n",
      "                                                                 \n",
      " lstm_3 (LSTM)               (None, 64)                22784     \n",
      "                                                                 \n",
      " dense_3 (Dense)             (None, 4001)              260065    \n",
      "                                                                 \n",
      "=================================================================\n",
      "Total params: 378,873\n",
      "Trainable params: 378,873\n",
      "Non-trainable params: 0\n",
      "_________________________________________________________________\n",
      "None\n"
     ]
    }
   ],
   "source": [
    "model = Sequential()\n",
    "model.add(InputLayer(input_shape=(4, ), dtype=np.int32))\n",
    "model.add(Embedding(NO_WORDS + 1, 24, input_length=4))\n",
    "model.add(LSTM(64))\n",
    "model.add(Dense(NO_WORDS + 1, activation='softmax'))\n",
    "print(model.summary())"
   ]
  },
  {
   "cell_type": "code",
   "execution_count": 136,
   "id": "fb09ba09",
   "metadata": {},
   "outputs": [],
   "source": [
    "model.compile(loss='categorical_crossentropy', optimizer='adam', metrics=['accuracy', top_3_accuracy])"
   ]
  },
  {
   "cell_type": "code",
   "execution_count": 137,
   "id": "f11cd06d",
   "metadata": {
    "scrolled": true
   },
   "outputs": [
    {
     "name": "stdout",
     "output_type": "stream",
     "text": [
      "Epoch 1/4\n",
      "3516/3516 [==============================] - 60s 16ms/step - loss: 6.0293 - accuracy: 0.0656 - top_3_accuracy: 0.1400 - val_loss: 5.6821 - val_accuracy: 0.0985 - val_top_3_accuracy: 0.1943\n",
      "Epoch 2/4\n",
      "3516/3516 [==============================] - 60s 17ms/step - loss: 5.4180 - accuracy: 0.1304 - top_3_accuracy: 0.2294 - val_loss: 5.2417 - val_accuracy: 0.1500 - val_top_3_accuracy: 0.2508\n",
      "Epoch 3/4\n",
      "3516/3516 [==============================] - 59s 17ms/step - loss: 5.1014 - accuracy: 0.1603 - top_3_accuracy: 0.2671 - val_loss: 5.0476 - val_accuracy: 0.1647 - val_top_3_accuracy: 0.2753\n",
      "Epoch 4/4\n",
      "3516/3516 [==============================] - 60s 17ms/step - loss: 4.9314 - accuracy: 0.1727 - top_3_accuracy: 0.2869 - val_loss: 4.9420 - val_accuracy: 0.1751 - val_top_3_accuracy: 0.2888\n"
     ]
    },
    {
     "data": {
      "text/plain": [
       "<keras.callbacks.History at 0x2388ea2a850>"
      ]
     },
     "execution_count": 137,
     "metadata": {},
     "output_type": "execute_result"
    }
   ],
   "source": [
    "model.fit(X_train, y_train, batch_size=128, epochs=4, validation_data=(X_test, y_test))"
   ]
  },
  {
   "cell_type": "code",
   "execution_count": 138,
   "id": "1fd2583b",
   "metadata": {},
   "outputs": [
    {
     "name": "stdout",
     "output_type": "stream",
     "text": [
      "2365/2365 [==============================] - 7s 2ms/step\n"
     ]
    }
   ],
   "source": [
    "preds = model.predict(X_test)"
   ]
  },
  {
   "cell_type": "code",
   "execution_count": 139,
   "id": "4b4035e9",
   "metadata": {},
   "outputs": [],
   "source": [
    "reverse_word_map = dict(map(reversed, tokenizer.word_index.items()))\n",
    "results = []\n",
    "wordsr = []\n",
    "for pred in preds:\n",
    "    ar = pred.argsort()[-5:][::-1]\n",
    "    results.append([ar[0], ar[1], ar[2], ar[3], ar[4]])\n",
    "    wordsr.append([reverse_word_map[ar[0]], reverse_word_map[ar[1]], reverse_word_map[ar[2]], reverse_word_map[ar[3]], reverse_word_map[ar[4]]])"
   ]
  },
  {
   "cell_type": "code",
   "execution_count": 140,
   "id": "c9062c0e",
   "metadata": {},
   "outputs": [],
   "source": [
    "testy = [np.argmax(x) for x in y_test]"
   ]
  },
  {
   "cell_type": "code",
   "execution_count": 141,
   "id": "1ab4bca7",
   "metadata": {},
   "outputs": [
    {
     "data": {
      "text/plain": [
       "75657"
      ]
     },
     "execution_count": 141,
     "metadata": {},
     "output_type": "execute_result"
    }
   ],
   "source": [
    "len(testy)"
   ]
  },
  {
   "cell_type": "code",
   "execution_count": 142,
   "id": "ef3c90bb",
   "metadata": {},
   "outputs": [
    {
     "name": "stdout",
     "output_type": "stream",
     "text": [
      "R1: 0.1750796357243877\n",
      "R2: 0.24408845182864772\n",
      "R3: 0.2886976750333743\n"
     ]
    }
   ],
   "source": [
    "acc1 = 0\n",
    "acc2 = 0\n",
    "acc3 = 0\n",
    "for i in range(len(results)):\n",
    "    if results[i][0] == testy[i]:\n",
    "        acc1 += 1\n",
    "    if testy[i] in results[i][:2]:\n",
    "        acc2 += 1\n",
    "    if testy[i] in results[i][:3]:\n",
    "        acc3 += 1\n",
    "print ('R1:', acc1 / len(testy))\n",
    "print ('R2:', acc2 / len(testy))\n",
    "print ('R3:', acc3 / len(testy))"
   ]
  },
  {
   "cell_type": "code",
   "execution_count": null,
   "id": "f8b6fc71",
   "metadata": {},
   "outputs": [],
   "source": []
  },
  {
   "cell_type": "code",
   "execution_count": 159,
   "id": "19afd0d1",
   "metadata": {},
   "outputs": [],
   "source": [
    "aux = \"salut ce faci in\"\n",
    "example = \"imi place\""
   ]
  },
  {
   "cell_type": "code",
   "execution_count": 161,
   "id": "a1418eb3",
   "metadata": {},
   "outputs": [
    {
     "name": "stdout",
     "output_type": "stream",
     "text": [
      "[[1, 25, 726, 5], [99, 138]]\n"
     ]
    }
   ],
   "source": [
    "example_seq = tokenizer.texts_to_sequences([aux, example])\n",
    "print (example_seq)"
   ]
  },
  {
   "cell_type": "code",
   "execution_count": 162,
   "id": "ba77f548",
   "metadata": {},
   "outputs": [
    {
     "name": "stdout",
     "output_type": "stream",
     "text": [
      "[[  1  25 726   5]\n",
      " [  0   0  99 138]]\n"
     ]
    }
   ],
   "source": [
    "example_padded = pad_sequences(example_seq, padding='pre')\n",
    "print (example_padded)"
   ]
  },
  {
   "cell_type": "code",
   "execution_count": 167,
   "id": "2d3fc237",
   "metadata": {},
   "outputs": [
    {
     "name": "stdout",
     "output_type": "stream",
     "text": [
      "1/1 [==============================] - 0s 15ms/step\n"
     ]
    }
   ],
   "source": [
    "pred = model.predict(example_padded)[1]"
   ]
  },
  {
   "cell_type": "code",
   "execution_count": 168,
   "id": "ada1d651",
   "metadata": {},
   "outputs": [],
   "source": [
    "ar = pred.argsort()[-3:][::-1]\n",
    "res = [ar[0], ar[1], ar[2]]\n",
    "words_pred = [reverse_word_map[ar[0]], reverse_word_map[ar[1]], reverse_word_map[ar[2]]]"
   ]
  },
  {
   "cell_type": "code",
   "execution_count": 169,
   "id": "55c6153f",
   "metadata": {},
   "outputs": [
    {
     "data": {
      "text/plain": [
       "[7, 20, 15]"
      ]
     },
     "execution_count": 169,
     "metadata": {},
     "output_type": "execute_result"
    }
   ],
   "source": [
    "res"
   ]
  },
  {
   "cell_type": "code",
   "execution_count": 170,
   "id": "9c2d896a",
   "metadata": {},
   "outputs": [
    {
     "data": {
      "text/plain": [
       "['sa', 'acest', 'la']"
      ]
     },
     "execution_count": 170,
     "metadata": {},
     "output_type": "execute_result"
    }
   ],
   "source": [
    "words_pred"
   ]
  },
  {
   "cell_type": "code",
   "execution_count": null,
   "id": "4beaef60",
   "metadata": {},
   "outputs": [],
   "source": []
  },
  {
   "cell_type": "code",
   "execution_count": null,
   "id": "9c35e707",
   "metadata": {},
   "outputs": [],
   "source": []
  }
 ],
 "metadata": {
  "kernelspec": {
   "display_name": "Python 3 (ipykernel)",
   "language": "python",
   "name": "python3"
  },
  "language_info": {
   "codemirror_mode": {
    "name": "ipython",
    "version": 3
   },
   "file_extension": ".py",
   "mimetype": "text/x-python",
   "name": "python",
   "nbconvert_exporter": "python",
   "pygments_lexer": "ipython3",
   "version": "3.9.12"
  }
 },
 "nbformat": 4,
 "nbformat_minor": 5
}
